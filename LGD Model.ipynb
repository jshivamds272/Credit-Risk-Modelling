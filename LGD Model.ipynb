{
 "cells": [
  {
   "cell_type": "code",
   "execution_count": 145,
   "id": "3dead93c",
   "metadata": {},
   "outputs": [],
   "source": [
    "import numpy as np\n",
    "import pandas as pd\n",
    "import matplotlib.pyplot as plt\n",
    "import seaborn as sns\n",
    "from sklearn.linear_model import LogisticRegression\n",
    "from sklearn.feature_selection import chi2\n",
    "import matplotlib.pyplot as plt\n",
    "from sklearn.metrics import confusion_matrix,accuracy_score\n",
    "from sklearn.linear_model import LinearRegression\n",
    "from sklearn.metrics import mean_squared_error,r2_score\n",
    "import warnings\n",
    "warnings.filterwarnings('ignore')"
   ]
  },
  {
   "cell_type": "code",
   "execution_count": 132,
   "id": "6d4b405b",
   "metadata": {
    "scrolled": false
   },
   "outputs": [
    {
     "data": {
      "text/html": [
       "<div>\n",
       "<style scoped>\n",
       "    .dataframe tbody tr th:only-of-type {\n",
       "        vertical-align: middle;\n",
       "    }\n",
       "\n",
       "    .dataframe tbody tr th {\n",
       "        vertical-align: top;\n",
       "    }\n",
       "\n",
       "    .dataframe thead th {\n",
       "        text-align: right;\n",
       "    }\n",
       "</style>\n",
       "<table border=\"1\" class=\"dataframe\">\n",
       "  <thead>\n",
       "    <tr style=\"text-align: right;\">\n",
       "      <th></th>\n",
       "      <th>Unnamed: 0</th>\n",
       "      <th>Unnamed: 0.1</th>\n",
       "      <th>id</th>\n",
       "      <th>member_id</th>\n",
       "      <th>loan_amnt</th>\n",
       "      <th>funded_amnt</th>\n",
       "      <th>funded_amnt_inv</th>\n",
       "      <th>term</th>\n",
       "      <th>int_rate</th>\n",
       "      <th>installment</th>\n",
       "      <th>...</th>\n",
       "      <th>addr_state:UT</th>\n",
       "      <th>addr_state:VA</th>\n",
       "      <th>addr_state:VT</th>\n",
       "      <th>addr_state:WA</th>\n",
       "      <th>addr_state:WI</th>\n",
       "      <th>addr_state:WV</th>\n",
       "      <th>addr_state:WY</th>\n",
       "      <th>initial_list_status:f</th>\n",
       "      <th>initial_list_status:w</th>\n",
       "      <th>good_bad</th>\n",
       "    </tr>\n",
       "  </thead>\n",
       "  <tbody>\n",
       "    <tr>\n",
       "      <th>0</th>\n",
       "      <td>0</td>\n",
       "      <td>0</td>\n",
       "      <td>1077501</td>\n",
       "      <td>1296599</td>\n",
       "      <td>5000</td>\n",
       "      <td>5000</td>\n",
       "      <td>4975.0</td>\n",
       "      <td>36 months</td>\n",
       "      <td>10.65</td>\n",
       "      <td>162.87</td>\n",
       "      <td>...</td>\n",
       "      <td>0</td>\n",
       "      <td>0</td>\n",
       "      <td>0</td>\n",
       "      <td>0</td>\n",
       "      <td>0</td>\n",
       "      <td>0</td>\n",
       "      <td>0</td>\n",
       "      <td>1</td>\n",
       "      <td>0</td>\n",
       "      <td>1</td>\n",
       "    </tr>\n",
       "    <tr>\n",
       "      <th>1</th>\n",
       "      <td>1</td>\n",
       "      <td>1</td>\n",
       "      <td>1077430</td>\n",
       "      <td>1314167</td>\n",
       "      <td>2500</td>\n",
       "      <td>2500</td>\n",
       "      <td>2500.0</td>\n",
       "      <td>60 months</td>\n",
       "      <td>15.27</td>\n",
       "      <td>59.83</td>\n",
       "      <td>...</td>\n",
       "      <td>0</td>\n",
       "      <td>0</td>\n",
       "      <td>0</td>\n",
       "      <td>0</td>\n",
       "      <td>0</td>\n",
       "      <td>0</td>\n",
       "      <td>0</td>\n",
       "      <td>1</td>\n",
       "      <td>0</td>\n",
       "      <td>0</td>\n",
       "    </tr>\n",
       "    <tr>\n",
       "      <th>2</th>\n",
       "      <td>2</td>\n",
       "      <td>2</td>\n",
       "      <td>1077175</td>\n",
       "      <td>1313524</td>\n",
       "      <td>2400</td>\n",
       "      <td>2400</td>\n",
       "      <td>2400.0</td>\n",
       "      <td>36 months</td>\n",
       "      <td>15.96</td>\n",
       "      <td>84.33</td>\n",
       "      <td>...</td>\n",
       "      <td>0</td>\n",
       "      <td>0</td>\n",
       "      <td>0</td>\n",
       "      <td>0</td>\n",
       "      <td>0</td>\n",
       "      <td>0</td>\n",
       "      <td>0</td>\n",
       "      <td>1</td>\n",
       "      <td>0</td>\n",
       "      <td>1</td>\n",
       "    </tr>\n",
       "    <tr>\n",
       "      <th>3</th>\n",
       "      <td>3</td>\n",
       "      <td>3</td>\n",
       "      <td>1076863</td>\n",
       "      <td>1277178</td>\n",
       "      <td>10000</td>\n",
       "      <td>10000</td>\n",
       "      <td>10000.0</td>\n",
       "      <td>36 months</td>\n",
       "      <td>13.49</td>\n",
       "      <td>339.31</td>\n",
       "      <td>...</td>\n",
       "      <td>0</td>\n",
       "      <td>0</td>\n",
       "      <td>0</td>\n",
       "      <td>0</td>\n",
       "      <td>0</td>\n",
       "      <td>0</td>\n",
       "      <td>0</td>\n",
       "      <td>1</td>\n",
       "      <td>0</td>\n",
       "      <td>1</td>\n",
       "    </tr>\n",
       "    <tr>\n",
       "      <th>4</th>\n",
       "      <td>4</td>\n",
       "      <td>4</td>\n",
       "      <td>1075358</td>\n",
       "      <td>1311748</td>\n",
       "      <td>3000</td>\n",
       "      <td>3000</td>\n",
       "      <td>3000.0</td>\n",
       "      <td>60 months</td>\n",
       "      <td>12.69</td>\n",
       "      <td>67.79</td>\n",
       "      <td>...</td>\n",
       "      <td>0</td>\n",
       "      <td>0</td>\n",
       "      <td>0</td>\n",
       "      <td>0</td>\n",
       "      <td>0</td>\n",
       "      <td>0</td>\n",
       "      <td>0</td>\n",
       "      <td>1</td>\n",
       "      <td>0</td>\n",
       "      <td>1</td>\n",
       "    </tr>\n",
       "  </tbody>\n",
       "</table>\n",
       "<p>5 rows × 209 columns</p>\n",
       "</div>"
      ],
      "text/plain": [
       "   Unnamed: 0  Unnamed: 0.1       id  member_id  loan_amnt  funded_amnt  \\\n",
       "0           0             0  1077501    1296599       5000         5000   \n",
       "1           1             1  1077430    1314167       2500         2500   \n",
       "2           2             2  1077175    1313524       2400         2400   \n",
       "3           3             3  1076863    1277178      10000        10000   \n",
       "4           4             4  1075358    1311748       3000         3000   \n",
       "\n",
       "   funded_amnt_inv        term  int_rate  installment  ... addr_state:UT  \\\n",
       "0           4975.0   36 months     10.65       162.87  ...             0   \n",
       "1           2500.0   60 months     15.27        59.83  ...             0   \n",
       "2           2400.0   36 months     15.96        84.33  ...             0   \n",
       "3          10000.0   36 months     13.49       339.31  ...             0   \n",
       "4           3000.0   60 months     12.69        67.79  ...             0   \n",
       "\n",
       "  addr_state:VA addr_state:VT addr_state:WA addr_state:WI  addr_state:WV  \\\n",
       "0             0             0             0             0              0   \n",
       "1             0             0             0             0              0   \n",
       "2             0             0             0             0              0   \n",
       "3             0             0             0             0              0   \n",
       "4             0             0             0             0              0   \n",
       "\n",
       "  addr_state:WY initial_list_status:f initial_list_status:w good_bad  \n",
       "0             0                     1                     0        1  \n",
       "1             0                     1                     0        0  \n",
       "2             0                     1                     0        1  \n",
       "3             0                     1                     0        1  \n",
       "4             0                     1                     0        1  \n",
       "\n",
       "[5 rows x 209 columns]"
      ]
     },
     "execution_count": 132,
     "metadata": {},
     "output_type": "execute_result"
    }
   ],
   "source": [
    "loan_data_processed=pd.read_csv(\"Data/loan_data_2007_2014_preprocessed.csv\")\n",
    "loan_data_processed.head()"
   ]
  },
  {
   "cell_type": "code",
   "execution_count": 133,
   "id": "054cbfb2",
   "metadata": {},
   "outputs": [],
   "source": [
    "loan_data_defaults= loan_data_processed[loan_data_processed['loan_status'].isin(['Charged Off','Does not meet the credit policy. Status:Charged Off'])]"
   ]
  },
  {
   "cell_type": "code",
   "execution_count": 134,
   "id": "ed29a136",
   "metadata": {},
   "outputs": [
    {
     "data": {
      "text/plain": [
       "(43236, 209)"
      ]
     },
     "execution_count": 134,
     "metadata": {},
     "output_type": "execute_result"
    }
   ],
   "source": [
    "loan_data_defaults.shape"
   ]
  },
  {
   "cell_type": "code",
   "execution_count": 135,
   "id": "28cea316",
   "metadata": {},
   "outputs": [
    {
     "data": {
      "text/plain": [
       "Unnamed: 0                                                             0\n",
       "Unnamed: 0.1                                                           0\n",
       "id                                                                     0\n",
       "member_id                                                              0\n",
       "loan_amnt                                                              0\n",
       "funded_amnt                                                            0\n",
       "funded_amnt_inv                                                        0\n",
       "term                                                                   0\n",
       "int_rate                                                               0\n",
       "installment                                                            0\n",
       "grade                                                                  0\n",
       "sub_grade                                                              0\n",
       "emp_title                                                           3287\n",
       "emp_length                                                          2337\n",
       "home_ownership                                                         0\n",
       "annual_inc                                                             0\n",
       "verification_status                                                    0\n",
       "issue_d                                                                0\n",
       "loan_status                                                            0\n",
       "pymnt_plan                                                             0\n",
       "url                                                                    0\n",
       "desc                                                               27396\n",
       "purpose                                                                0\n",
       "title                                                                  3\n",
       "zip_code                                                               0\n",
       "addr_state                                                             0\n",
       "dti                                                                    0\n",
       "delinq_2yrs                                                            0\n",
       "earliest_cr_line                                                       3\n",
       "inq_last_6mths                                                         0\n",
       "mths_since_last_delinq                                             23950\n",
       "mths_since_last_record                                             37821\n",
       "open_acc                                                               0\n",
       "pub_rec                                                                0\n",
       "revol_bal                                                              0\n",
       "revol_util                                                            53\n",
       "total_acc                                                              0\n",
       "initial_list_status                                                    0\n",
       "out_prncp                                                              0\n",
       "out_prncp_inv                                                          0\n",
       "total_pymnt                                                            0\n",
       "total_pymnt_inv                                                        0\n",
       "total_rec_prncp                                                        0\n",
       "total_rec_int                                                          0\n",
       "total_rec_late_fee                                                     0\n",
       "recoveries                                                             0\n",
       "collection_recovery_fee                                                0\n",
       "last_pymnt_d                                                         376\n",
       "last_pymnt_amnt                                                        0\n",
       "next_pymnt_d                                                       42475\n",
       "last_credit_pull_d                                                     6\n",
       "collections_12_mths_ex_med                                            28\n",
       "mths_since_last_major_derog                                        35283\n",
       "policy_code                                                            0\n",
       "application_type                                                       0\n",
       "annual_inc_joint                                                   43236\n",
       "dti_joint                                                          43236\n",
       "verification_status_joint                                          43236\n",
       "acc_now_delinq                                                         0\n",
       "tot_coll_amt                                                       10780\n",
       "tot_cur_bal                                                        10780\n",
       "open_acc_6m                                                        43236\n",
       "open_il_6m                                                         43236\n",
       "open_il_12m                                                        43236\n",
       "open_il_24m                                                        43236\n",
       "mths_since_rcnt_il                                                 43236\n",
       "total_bal_il                                                       43236\n",
       "il_util                                                            43236\n",
       "open_rv_12m                                                        43236\n",
       "open_rv_24m                                                        43236\n",
       "max_bal_bc                                                         43236\n",
       "all_util                                                           43236\n",
       "total_rev_hi_lim                                                       0\n",
       "inq_fi                                                             43236\n",
       "total_cu_tl                                                        43236\n",
       "inq_last_12m                                                       43236\n",
       "emp_length_int                                                         0\n",
       "earliest_cr_line_date                                                  3\n",
       "mths_since_earliest_cr_line                                            0\n",
       "term_int                                                               0\n",
       "issue_d_date                                                           0\n",
       "mths_since_issue_d                                                     0\n",
       "grade:A                                                                0\n",
       "grade:B                                                                0\n",
       "grade:C                                                                0\n",
       "grade:D                                                                0\n",
       "grade:E                                                                0\n",
       "grade:F                                                                0\n",
       "grade:G                                                                0\n",
       "sub_grade:A1                                                           0\n",
       "sub_grade:A2                                                           0\n",
       "sub_grade:A3                                                           0\n",
       "sub_grade:A4                                                           0\n",
       "sub_grade:A5                                                           0\n",
       "sub_grade:B1                                                           0\n",
       "sub_grade:B2                                                           0\n",
       "sub_grade:B3                                                           0\n",
       "sub_grade:B4                                                           0\n",
       "sub_grade:B5                                                           0\n",
       "sub_grade:C1                                                           0\n",
       "sub_grade:C2                                                           0\n",
       "sub_grade:C3                                                           0\n",
       "sub_grade:C4                                                           0\n",
       "sub_grade:C5                                                           0\n",
       "sub_grade:D1                                                           0\n",
       "sub_grade:D2                                                           0\n",
       "sub_grade:D3                                                           0\n",
       "sub_grade:D4                                                           0\n",
       "sub_grade:D5                                                           0\n",
       "sub_grade:E1                                                           0\n",
       "sub_grade:E2                                                           0\n",
       "sub_grade:E3                                                           0\n",
       "sub_grade:E4                                                           0\n",
       "sub_grade:E5                                                           0\n",
       "sub_grade:F1                                                           0\n",
       "sub_grade:F2                                                           0\n",
       "sub_grade:F3                                                           0\n",
       "sub_grade:F4                                                           0\n",
       "sub_grade:F5                                                           0\n",
       "sub_grade:G1                                                           0\n",
       "sub_grade:G2                                                           0\n",
       "sub_grade:G3                                                           0\n",
       "sub_grade:G4                                                           0\n",
       "sub_grade:G5                                                           0\n",
       "home_ownership:ANY                                                     0\n",
       "home_ownership:MORTGAGE                                                0\n",
       "home_ownership:NONE                                                    0\n",
       "home_ownership:OTHER                                                   0\n",
       "home_ownership:OWN                                                     0\n",
       "home_ownership:RENT                                                    0\n",
       "verification_status:Not Verified                                       0\n",
       "verification_status:Source Verified                                    0\n",
       "verification_status:Verified                                           0\n",
       "loan_status:Charged Off                                                0\n",
       "loan_status:Current                                                    0\n",
       "loan_status:Default                                                    0\n",
       "loan_status:Does not meet the credit policy. Status:Charged Off        0\n",
       "loan_status:Does not meet the credit policy. Status:Fully Paid         0\n",
       "loan_status:Fully Paid                                                 0\n",
       "loan_status:In Grace Period                                            0\n",
       "loan_status:Late (16-30 days)                                          0\n",
       "loan_status:Late (31-120 days)                                         0\n",
       "purpose:car                                                            0\n",
       "purpose:credit_card                                                    0\n",
       "purpose:debt_consolidation                                             0\n",
       "purpose:educational                                                    0\n",
       "purpose:home_improvement                                               0\n",
       "purpose:house                                                          0\n",
       "purpose:major_purchase                                                 0\n",
       "purpose:medical                                                        0\n",
       "purpose:moving                                                         0\n",
       "purpose:other                                                          0\n",
       "purpose:renewable_energy                                               0\n",
       "purpose:small_business                                                 0\n",
       "purpose:vacation                                                       0\n",
       "purpose:wedding                                                        0\n",
       "addr_state:AK                                                          0\n",
       "addr_state:AL                                                          0\n",
       "addr_state:AR                                                          0\n",
       "addr_state:AZ                                                          0\n",
       "addr_state:CA                                                          0\n",
       "addr_state:CO                                                          0\n",
       "addr_state:CT                                                          0\n",
       "addr_state:DC                                                          0\n",
       "addr_state:DE                                                          0\n",
       "addr_state:FL                                                          0\n",
       "addr_state:GA                                                          0\n",
       "addr_state:HI                                                          0\n",
       "addr_state:IA                                                          0\n",
       "addr_state:ID                                                          0\n",
       "addr_state:IL                                                          0\n",
       "addr_state:IN                                                          0\n",
       "addr_state:KS                                                          0\n",
       "addr_state:KY                                                          0\n",
       "addr_state:LA                                                          0\n",
       "addr_state:MA                                                          0\n",
       "addr_state:MD                                                          0\n",
       "addr_state:ME                                                          0\n",
       "addr_state:MI                                                          0\n",
       "addr_state:MN                                                          0\n",
       "addr_state:MO                                                          0\n",
       "addr_state:MS                                                          0\n",
       "addr_state:MT                                                          0\n",
       "addr_state:NC                                                          0\n",
       "addr_state:NE                                                          0\n",
       "addr_state:NH                                                          0\n",
       "addr_state:NJ                                                          0\n",
       "addr_state:NM                                                          0\n",
       "addr_state:NV                                                          0\n",
       "addr_state:NY                                                          0\n",
       "addr_state:OH                                                          0\n",
       "addr_state:OK                                                          0\n",
       "addr_state:OR                                                          0\n",
       "addr_state:PA                                                          0\n",
       "addr_state:RI                                                          0\n",
       "addr_state:SC                                                          0\n",
       "addr_state:SD                                                          0\n",
       "addr_state:TN                                                          0\n",
       "addr_state:TX                                                          0\n",
       "addr_state:UT                                                          0\n",
       "addr_state:VA                                                          0\n",
       "addr_state:VT                                                          0\n",
       "addr_state:WA                                                          0\n",
       "addr_state:WI                                                          0\n",
       "addr_state:WV                                                          0\n",
       "addr_state:WY                                                          0\n",
       "initial_list_status:f                                                  0\n",
       "initial_list_status:w                                                  0\n",
       "good_bad                                                               0\n",
       "dtype: int64"
      ]
     },
     "execution_count": 135,
     "metadata": {},
     "output_type": "execute_result"
    }
   ],
   "source": [
    "pd.options.display.max_rows=None\n",
    "loan_data_defaults.isnull().sum()\n"
   ]
  },
  {
   "cell_type": "markdown",
   "id": "e2763c08",
   "metadata": {},
   "source": [
    "The Independent variables in LGD and EAD models do not have to be only dummy variables,like in the PD model."
   ]
  },
  {
   "cell_type": "markdown",
   "id": "6a187d7e",
   "metadata": {},
   "source": [
    "# Independent Variable"
   ]
  },
  {
   "cell_type": "markdown",
   "id": "71cf7dd8",
   "metadata": {},
   "source": [
    " Handling Missing Values"
   ]
  },
  {
   "cell_type": "code",
   "execution_count": 136,
   "id": "4d9dc61e",
   "metadata": {},
   "outputs": [],
   "source": [
    "loan_data_defaults['mths_since_last_delinq'].fillna(0,inplace=True)"
   ]
  },
  {
   "cell_type": "code",
   "execution_count": 137,
   "id": "56a59b5c",
   "metadata": {},
   "outputs": [],
   "source": [
    "loan_data_defaults['mths_since_last_record'].fillna(0,inplace=True)"
   ]
  },
  {
   "cell_type": "markdown",
   "id": "1cbd4161",
   "metadata": {},
   "source": [
    "Dependent Variables"
   ]
  },
  {
   "cell_type": "markdown",
   "id": "5725a977",
   "metadata": {},
   "source": [
    "LGD= 1 - recovery \n",
    "\n",
    "Recovery rate= recoveries / funded amount"
   ]
  },
  {
   "cell_type": "code",
   "execution_count": 138,
   "id": "d0a24fe6",
   "metadata": {},
   "outputs": [],
   "source": [
    "loan_data_defaults['recovery rate']=loan_data_defaults['recoveries']/loan_data_defaults['funded_amnt']"
   ]
  },
  {
   "cell_type": "code",
   "execution_count": 139,
   "id": "9565d172",
   "metadata": {
    "scrolled": false
   },
   "outputs": [
    {
     "data": {
      "text/plain": [
       "count    43236.000000\n",
       "mean         0.060820\n",
       "std          0.089770\n",
       "min          0.000000\n",
       "25%          0.000000\n",
       "50%          0.029466\n",
       "75%          0.114044\n",
       "max          1.220774\n",
       "Name: recovery rate, dtype: float64"
      ]
     },
     "execution_count": 139,
     "metadata": {},
     "output_type": "execute_result"
    }
   ],
   "source": [
    "loan_data_defaults['recovery rate'].describe()"
   ]
  },
  {
   "cell_type": "code",
   "execution_count": 140,
   "id": "f4376824",
   "metadata": {},
   "outputs": [],
   "source": [
    "loan_data_defaults['recovery rate'] = np.where(loan_data_defaults['recovery rate'] > 1, 1, loan_data_defaults['recovery rate'])\n",
    "loan_data_defaults['recovery rate'] = np.where(loan_data_defaults['recovery rate'] < 0, 0, loan_data_defaults['recovery rate'])\n",
    "# We set recovery rates that are greater than 1 to 1 and recovery rates that are less than 0 to 0."
   ]
  },
  {
   "cell_type": "markdown",
   "id": "fb0eb93d",
   "metadata": {},
   "source": [
    "Recovery rate is the dependent variable for the LGD model and we have successfully preprocessed it."
   ]
  },
  {
   "cell_type": "markdown",
   "id": "aed3aae8",
   "metadata": {},
   "source": [
    "EAD= total funded amount * credit conversion factor\n",
    "\n",
    "total recovered principal reflects the total payments made on the principal of the loan"
   ]
  },
  {
   "cell_type": "code",
   "execution_count": 141,
   "id": "7f121862",
   "metadata": {},
   "outputs": [],
   "source": [
    "loan_data_defaults['CCF'] = (loan_data_defaults['funded_amnt'] - loan_data_defaults['total_rec_prncp'])/ loan_data_defaults['funded_amnt']\n"
   ]
  },
  {
   "cell_type": "code",
   "execution_count": 142,
   "id": "ed25230c",
   "metadata": {},
   "outputs": [
    {
     "data": {
      "text/plain": [
       "count    43236.000000\n",
       "mean         0.735952\n",
       "std          0.200742\n",
       "min          0.000438\n",
       "25%          0.632088\n",
       "50%          0.789908\n",
       "75%          0.888543\n",
       "max          1.000000\n",
       "Name: CCF, dtype: float64"
      ]
     },
     "execution_count": 142,
     "metadata": {},
     "output_type": "execute_result"
    }
   ],
   "source": [
    "loan_data_defaults['CCF'].describe()"
   ]
  },
  {
   "cell_type": "code",
   "execution_count": 64,
   "id": "c08d6a83",
   "metadata": {},
   "outputs": [],
   "source": [
    "loan_data_defaults.to_csv(\"loan_data_defaults.csv\")"
   ]
  },
  {
   "cell_type": "markdown",
   "id": "9c59ef4a",
   "metadata": {},
   "source": [
    "# Explore Dependent Variable"
   ]
  },
  {
   "cell_type": "code",
   "execution_count": 65,
   "id": "837200f5",
   "metadata": {},
   "outputs": [],
   "source": [
    "sns.set()"
   ]
  },
  {
   "cell_type": "code",
   "execution_count": 66,
   "id": "ee02400f",
   "metadata": {},
   "outputs": [
    {
     "data": {
      "text/plain": [
       "(array([2.1023e+04, 1.8370e+03, 3.8730e+03, 1.3940e+03, 2.1330e+03,\n",
       "        3.3440e+03, 4.7650e+03, 1.7130e+03, 1.1790e+03, 4.0600e+02,\n",
       "        3.4100e+02, 2.7400e+02, 1.1700e+02, 9.3000e+01, 8.1000e+01,\n",
       "        7.3000e+01, 5.4000e+01, 7.2000e+01, 5.7000e+01, 3.0000e+01,\n",
       "        4.7000e+01, 2.7000e+01, 1.7000e+01, 1.5000e+01, 2.0000e+01,\n",
       "        2.3000e+01, 1.7000e+01, 7.0000e+00, 1.1000e+01, 7.0000e+00,\n",
       "        8.0000e+00, 7.0000e+00, 7.0000e+00, 8.0000e+00, 7.0000e+00,\n",
       "        1.0000e+01, 6.0000e+00, 1.1000e+01, 9.0000e+00, 9.0000e+00,\n",
       "        6.0000e+00, 6.0000e+00, 6.0000e+00, 3.0000e+00, 9.0000e+00,\n",
       "        9.0000e+00, 1.5000e+01, 8.0000e+00, 9.0000e+00, 3.3000e+01]),\n",
       " array([0.  , 0.02, 0.04, 0.06, 0.08, 0.1 , 0.12, 0.14, 0.16, 0.18, 0.2 ,\n",
       "        0.22, 0.24, 0.26, 0.28, 0.3 , 0.32, 0.34, 0.36, 0.38, 0.4 , 0.42,\n",
       "        0.44, 0.46, 0.48, 0.5 , 0.52, 0.54, 0.56, 0.58, 0.6 , 0.62, 0.64,\n",
       "        0.66, 0.68, 0.7 , 0.72, 0.74, 0.76, 0.78, 0.8 , 0.82, 0.84, 0.86,\n",
       "        0.88, 0.9 , 0.92, 0.94, 0.96, 0.98, 1.  ]),\n",
       " <BarContainer object of 50 artists>)"
      ]
     },
     "execution_count": 66,
     "metadata": {},
     "output_type": "execute_result"
    },
    {
     "data": {
      "image/png": "[encoded data removed]",
      "text/plain": [
       "<Figure size 432x288 with 1 Axes>"
      ]
     },
     "metadata": {},
     "output_type": "display_data"
    }
   ],
   "source": [
    "plt.hist(loan_data_defaults['recovery rate'],bins=50)\n"
   ]
  },
  {
   "cell_type": "code",
   "execution_count": 67,
   "id": "d77180c3",
   "metadata": {},
   "outputs": [
    {
     "data": {
      "text/plain": [
       "(array([  20.,   60.,   29.,   97.,   70.,   84.,  150.,   78.,  124.,\n",
       "         170.,  152.,  208.,  199.,  228.,  242.,  276.,  300.,  335.,\n",
       "         339.,  376.,  412.,  421.,  505.,  505.,  575.,  583.,  614.,\n",
       "         735.,  756.,  812.,  840.,  942.,  959., 1137., 1217., 1418.,\n",
       "        1431., 1580., 1732., 1850., 2003., 2151., 2123., 2376., 2447.,\n",
       "        2693., 2366., 2115., 1527.,  874.]),\n",
       " array([4.3800000e-04, 2.0429240e-02, 4.0420480e-02, 6.0411720e-02,\n",
       "        8.0402960e-02, 1.0039420e-01, 1.2038544e-01, 1.4037668e-01,\n",
       "        1.6036792e-01, 1.8035916e-01, 2.0035040e-01, 2.2034164e-01,\n",
       "        2.4033288e-01, 2.6032412e-01, 2.8031536e-01, 3.0030660e-01,\n",
       "        3.2029784e-01, 3.4028908e-01, 3.6028032e-01, 3.8027156e-01,\n",
       "        4.0026280e-01, 4.2025404e-01, 4.4024528e-01, 4.6023652e-01,\n",
       "        4.8022776e-01, 5.0021900e-01, 5.2021024e-01, 5.4020148e-01,\n",
       "        5.6019272e-01, 5.8018396e-01, 6.0017520e-01, 6.2016644e-01,\n",
       "        6.4015768e-01, 6.6014892e-01, 6.8014016e-01, 7.0013140e-01,\n",
       "        7.2012264e-01, 7.4011388e-01, 7.6010512e-01, 7.8009636e-01,\n",
       "        8.0008760e-01, 8.2007884e-01, 8.4007008e-01, 8.6006132e-01,\n",
       "        8.8005256e-01, 9.0004380e-01, 9.2003504e-01, 9.4002628e-01,\n",
       "        9.6001752e-01, 9.8000876e-01, 1.0000000e+00]),\n",
       " <BarContainer object of 50 artists>)"
      ]
     },
     "execution_count": 67,
     "metadata": {},
     "output_type": "execute_result"
    },
    {
     "data": {
      "image/png": "[encoded data removed]",
      "text/plain": [
       "<Figure size 432x288 with 1 Axes>"
      ]
     },
     "metadata": {},
     "output_type": "display_data"
    }
   ],
   "source": [
    "plt.hist(loan_data_defaults['CCF'],bins=50)"
   ]
  },
  {
   "cell_type": "code",
   "execution_count": 143,
   "id": "177c2196",
   "metadata": {},
   "outputs": [],
   "source": [
    "loan_data_defaults['recovery rate_0_1']=np.where(loan_data_defaults['recovery rate']==0,0,1)"
   ]
  },
  {
   "cell_type": "code",
   "execution_count": 69,
   "id": "27c1ea8a",
   "metadata": {},
   "outputs": [
    {
     "data": {
      "text/plain": [
       "1    24371\n",
       "0    18865\n",
       "Name: recovery rate_0_1, dtype: int64"
      ]
     },
     "execution_count": 69,
     "metadata": {},
     "output_type": "execute_result"
    }
   ],
   "source": [
    "loan_data_defaults['recovery rate_0_1'].value_counts()"
   ]
  },
  {
   "cell_type": "markdown",
   "id": "89a592fc",
   "metadata": {},
   "source": [
    "# LGD MOdel"
   ]
  },
  {
   "cell_type": "markdown",
   "id": "97881a76",
   "metadata": {},
   "source": [
    "# stage-1 Logistic Regression"
   ]
  },
  {
   "cell_type": "code",
   "execution_count": 70,
   "id": "1fb62ae3",
   "metadata": {},
   "outputs": [],
   "source": [
    "from sklearn.model_selection import train_test_split\n",
    "lgd_inputs_stage_1_train,lgd_inputs_stage_1_test,lgd_targets_stage_1_train,lgd_targets_stage_1_test= train_test_split(loan_data_defaults.drop(['good_bad','recovery rate','recovery rate_0_1','CCF'],axis=1),loan_data_defaults['recovery rate_0_1'],test_size=0.2,random_state=272)\n"
   ]
  },
  {
   "cell_type": "markdown",
   "id": "00c17676",
   "metadata": {},
   "source": [
    "## preparing the inputs"
   ]
  },
  {
   "cell_type": "code",
   "execution_count": 71,
   "id": "7409c001",
   "metadata": {},
   "outputs": [],
   "source": [
    "features_all= ['grade:A',\n",
    "'grade:B',\n",
    "'grade:C',\n",
    "'grade:D',\n",
    "'grade:E',\n",
    "'grade:F',\n",
    "'grade:G',\n",
    "'home_ownership:MORTGAGE',\n",
    "'home_ownership:NONE',\n",
    "'home_ownership:OTHER',\n",
    "'home_ownership:OWN',\n",
    "'home_ownership:RENT',\n",
    "'verification_status:Not Verified',\n",
    "'verification_status:Source Verified',\n",
    "'verification_status:Verified',\n",
    "'purpose:car',\n",
    "'purpose:credit_card',\n",
    "'purpose:debt_consolidation',\n",
    "'purpose:educational',\n",
    "'purpose:home_improvement',\n",
    "'purpose:house',\n",
    "'purpose:major_purchase',\n",
    "'purpose:medical',\n",
    "'purpose:moving',\n",
    "'purpose:other',\n",
    "'purpose:renewable_energy',\n",
    "'purpose:small_business',\n",
    "'purpose:vacation',\n",
    "'purpose:wedding',\n",
    "'initial_list_status:f',\n",
    "'initial_list_status:w',\n",
    "'term_int',\n",
    "'emp_length_int',\n",
    "'mths_since_issue_d',\n",
    "'mths_since_earliest_cr_line',\n",
    "'funded_amnt',\n",
    "'int_rate',\n",
    "'installment',\n",
    "'annual_inc',\n",
    "'dti',\n",
    "'delinq_2yrs',\n",
    "'inq_last_6mths',\n",
    "'mths_since_last_delinq',\n",
    "'mths_since_last_record',\n",
    "'open_acc',\n",
    "'pub_rec',\n",
    "'total_acc',\n",
    "'acc_now_delinq',\n",
    "'total_rev_hi_lim']"
   ]
  },
  {
   "cell_type": "code",
   "execution_count": 72,
   "id": "1ea985ee",
   "metadata": {},
   "outputs": [],
   "source": [
    "features_reference_cat=['grade:G',\n",
    "'home_ownership:RENT',\n",
    "'verification_status:Verified',\n",
    "'purpose:credit_card',\n",
    "'initial_list_status:f']"
   ]
  },
  {
   "cell_type": "code",
   "execution_count": 73,
   "id": "b18a9fe7",
   "metadata": {},
   "outputs": [],
   "source": [
    "lgd_inputs_stage_1_train=lgd_inputs_stage_1_train[features_all]\n",
    "# Here we keep only the variables we need for the model."
   ]
  },
  {
   "cell_type": "code",
   "execution_count": 74,
   "id": "05dc796b",
   "metadata": {},
   "outputs": [],
   "source": [
    "lgd_inputs_stage_1_train = lgd_inputs_stage_1_train.drop(features_reference_cat, axis = 1)\n",
    "# Here we remove the dummy variable reference categories."
   ]
  },
  {
   "cell_type": "code",
   "execution_count": 75,
   "id": "dabadef5",
   "metadata": {
    "scrolled": true
   },
   "outputs": [
    {
     "data": {
      "text/plain": [
       "grade:A                                0\n",
       "grade:B                                0\n",
       "grade:C                                0\n",
       "grade:D                                0\n",
       "grade:E                                0\n",
       "grade:F                                0\n",
       "home_ownership:MORTGAGE                0\n",
       "home_ownership:NONE                    0\n",
       "home_ownership:OTHER                   0\n",
       "home_ownership:OWN                     0\n",
       "verification_status:Not Verified       0\n",
       "verification_status:Source Verified    0\n",
       "purpose:car                            0\n",
       "purpose:debt_consolidation             0\n",
       "purpose:educational                    0\n",
       "purpose:home_improvement               0\n",
       "purpose:house                          0\n",
       "purpose:major_purchase                 0\n",
       "purpose:medical                        0\n",
       "purpose:moving                         0\n",
       "purpose:other                          0\n",
       "purpose:renewable_energy               0\n",
       "purpose:small_business                 0\n",
       "purpose:vacation                       0\n",
       "purpose:wedding                        0\n",
       "initial_list_status:w                  0\n",
       "term_int                               0\n",
       "emp_length_int                         0\n",
       "mths_since_issue_d                     0\n",
       "mths_since_earliest_cr_line            0\n",
       "funded_amnt                            0\n",
       "int_rate                               0\n",
       "installment                            0\n",
       "annual_inc                             0\n",
       "dti                                    0\n",
       "delinq_2yrs                            0\n",
       "inq_last_6mths                         0\n",
       "mths_since_last_delinq                 0\n",
       "mths_since_last_record                 0\n",
       "open_acc                               0\n",
       "pub_rec                                0\n",
       "total_acc                              0\n",
       "acc_now_delinq                         0\n",
       "total_rev_hi_lim                       0\n",
       "dtype: int64"
      ]
     },
     "execution_count": 75,
     "metadata": {},
     "output_type": "execute_result"
    }
   ],
   "source": [
    "lgd_inputs_stage_1_train.isnull().sum()\n",
    "# Check for missing values. We check whether the value of each row for each column is missing or not,\n",
    "# then sum accross columns."
   ]
  },
  {
   "cell_type": "code",
   "execution_count": 144,
   "id": "682bc582",
   "metadata": {},
   "outputs": [
    {
     "data": {
      "text/plain": [
       "LogisticRegression()"
      ]
     },
     "execution_count": 144,
     "metadata": {},
     "output_type": "execute_result"
    }
   ],
   "source": [
    "lr=LogisticRegression()\n",
    "lr.fit(lgd_inputs_stage_1_train,lgd_targets_stage_1_train)"
   ]
  },
  {
   "cell_type": "code",
   "execution_count": 77,
   "id": "62e32e27",
   "metadata": {},
   "outputs": [
    {
     "data": {
      "text/html": [
       "<div>\n",
       "<style scoped>\n",
       "    .dataframe tbody tr th:only-of-type {\n",
       "        vertical-align: middle;\n",
       "    }\n",
       "\n",
       "    .dataframe tbody tr th {\n",
       "        vertical-align: top;\n",
       "    }\n",
       "\n",
       "    .dataframe thead th {\n",
       "        text-align: right;\n",
       "    }\n",
       "</style>\n",
       "<table border=\"1\" class=\"dataframe\">\n",
       "  <thead>\n",
       "    <tr style=\"text-align: right;\">\n",
       "      <th></th>\n",
       "      <th>Feature Name</th>\n",
       "      <th>Coefficients</th>\n",
       "      <th>p_value</th>\n",
       "    </tr>\n",
       "  </thead>\n",
       "  <tbody>\n",
       "    <tr>\n",
       "      <th>0</th>\n",
       "      <td>Intercept</td>\n",
       "      <td>-2.281742e-04</td>\n",
       "      <td>NaN</td>\n",
       "    </tr>\n",
       "    <tr>\n",
       "      <th>1</th>\n",
       "      <td>grade:A</td>\n",
       "      <td>-2.639492e-05</td>\n",
       "      <td>6.268045e-01</td>\n",
       "    </tr>\n",
       "    <tr>\n",
       "      <th>2</th>\n",
       "      <td>grade:B</td>\n",
       "      <td>-1.300220e-04</td>\n",
       "      <td>1.466513e-02</td>\n",
       "    </tr>\n",
       "    <tr>\n",
       "      <th>3</th>\n",
       "      <td>grade:C</td>\n",
       "      <td>-2.450623e-04</td>\n",
       "      <td>1.535138e-07</td>\n",
       "    </tr>\n",
       "    <tr>\n",
       "      <th>4</th>\n",
       "      <td>grade:D</td>\n",
       "      <td>1.562876e-05</td>\n",
       "      <td>8.759135e-02</td>\n",
       "    </tr>\n",
       "    <tr>\n",
       "      <th>5</th>\n",
       "      <td>grade:E</td>\n",
       "      <td>2.150488e-05</td>\n",
       "      <td>2.255151e-02</td>\n",
       "    </tr>\n",
       "    <tr>\n",
       "      <th>6</th>\n",
       "      <td>grade:F</td>\n",
       "      <td>1.240578e-04</td>\n",
       "      <td>4.237568e-15</td>\n",
       "    </tr>\n",
       "    <tr>\n",
       "      <th>7</th>\n",
       "      <td>home_ownership:MORTGAGE</td>\n",
       "      <td>-6.905719e-05</td>\n",
       "      <td>3.992030e-01</td>\n",
       "    </tr>\n",
       "    <tr>\n",
       "      <th>8</th>\n",
       "      <td>home_ownership:NONE</td>\n",
       "      <td>1.297238e-06</td>\n",
       "      <td>1.823542e-01</td>\n",
       "    </tr>\n",
       "    <tr>\n",
       "      <th>9</th>\n",
       "      <td>home_ownership:OTHER</td>\n",
       "      <td>3.418745e-06</td>\n",
       "      <td>1.259699e-02</td>\n",
       "    </tr>\n",
       "    <tr>\n",
       "      <th>10</th>\n",
       "      <td>home_ownership:OWN</td>\n",
       "      <td>7.639115e-06</td>\n",
       "      <td>8.842357e-01</td>\n",
       "    </tr>\n",
       "    <tr>\n",
       "      <th>11</th>\n",
       "      <td>verification_status:Not Verified</td>\n",
       "      <td>-1.423244e-04</td>\n",
       "      <td>5.630095e-01</td>\n",
       "    </tr>\n",
       "    <tr>\n",
       "      <th>12</th>\n",
       "      <td>verification_status:Source Verified</td>\n",
       "      <td>-3.044152e-04</td>\n",
       "      <td>9.390098e-12</td>\n",
       "    </tr>\n",
       "    <tr>\n",
       "      <th>13</th>\n",
       "      <td>purpose:car</td>\n",
       "      <td>2.269080e-05</td>\n",
       "      <td>1.933141e-05</td>\n",
       "    </tr>\n",
       "    <tr>\n",
       "      <th>14</th>\n",
       "      <td>purpose:debt_consolidation</td>\n",
       "      <td>-2.823973e-04</td>\n",
       "      <td>1.017435e-03</td>\n",
       "    </tr>\n",
       "    <tr>\n",
       "      <th>15</th>\n",
       "      <td>purpose:educational</td>\n",
       "      <td>2.393199e-06</td>\n",
       "      <td>6.555862e-03</td>\n",
       "    </tr>\n",
       "    <tr>\n",
       "      <th>16</th>\n",
       "      <td>purpose:home_improvement</td>\n",
       "      <td>3.127669e-05</td>\n",
       "      <td>6.650120e-03</td>\n",
       "    </tr>\n",
       "    <tr>\n",
       "      <th>17</th>\n",
       "      <td>purpose:house</td>\n",
       "      <td>2.103636e-05</td>\n",
       "      <td>2.042955e-05</td>\n",
       "    </tr>\n",
       "    <tr>\n",
       "      <th>18</th>\n",
       "      <td>purpose:major_purchase</td>\n",
       "      <td>2.679304e-05</td>\n",
       "      <td>1.611498e-05</td>\n",
       "    </tr>\n",
       "    <tr>\n",
       "      <th>19</th>\n",
       "      <td>purpose:medical</td>\n",
       "      <td>-3.549057e-06</td>\n",
       "      <td>8.922846e-01</td>\n",
       "    </tr>\n",
       "    <tr>\n",
       "      <th>20</th>\n",
       "      <td>purpose:moving</td>\n",
       "      <td>3.582380e-06</td>\n",
       "      <td>2.473757e-01</td>\n",
       "    </tr>\n",
       "    <tr>\n",
       "      <th>21</th>\n",
       "      <td>purpose:other</td>\n",
       "      <td>5.239975e-05</td>\n",
       "      <td>3.925656e-06</td>\n",
       "    </tr>\n",
       "    <tr>\n",
       "      <th>22</th>\n",
       "      <td>purpose:renewable_energy</td>\n",
       "      <td>3.635434e-06</td>\n",
       "      <td>6.730217e-02</td>\n",
       "    </tr>\n",
       "    <tr>\n",
       "      <th>23</th>\n",
       "      <td>purpose:small_business</td>\n",
       "      <td>8.655585e-05</td>\n",
       "      <td>3.389955e-19</td>\n",
       "    </tr>\n",
       "    <tr>\n",
       "      <th>24</th>\n",
       "      <td>purpose:vacation</td>\n",
       "      <td>-1.492695e-06</td>\n",
       "      <td>9.270831e-01</td>\n",
       "    </tr>\n",
       "    <tr>\n",
       "      <th>25</th>\n",
       "      <td>purpose:wedding</td>\n",
       "      <td>1.721700e-05</td>\n",
       "      <td>1.231730e-05</td>\n",
       "    </tr>\n",
       "    <tr>\n",
       "      <th>26</th>\n",
       "      <td>initial_list_status:w</td>\n",
       "      <td>-1.438359e-03</td>\n",
       "      <td>0.000000e+00</td>\n",
       "    </tr>\n",
       "    <tr>\n",
       "      <th>27</th>\n",
       "      <td>term_int</td>\n",
       "      <td>-6.043141e-03</td>\n",
       "      <td>9.317429e-18</td>\n",
       "    </tr>\n",
       "    <tr>\n",
       "      <th>28</th>\n",
       "      <td>emp_length_int</td>\n",
       "      <td>-1.277066e-03</td>\n",
       "      <td>2.589510e-03</td>\n",
       "    </tr>\n",
       "    <tr>\n",
       "      <th>29</th>\n",
       "      <td>mths_since_issue_d</td>\n",
       "      <td>2.457104e-02</td>\n",
       "      <td>0.000000e+00</td>\n",
       "    </tr>\n",
       "    <tr>\n",
       "      <th>30</th>\n",
       "      <td>mths_since_earliest_cr_line</td>\n",
       "      <td>-1.892555e-03</td>\n",
       "      <td>5.712575e-54</td>\n",
       "    </tr>\n",
       "    <tr>\n",
       "      <th>31</th>\n",
       "      <td>funded_amnt</td>\n",
       "      <td>3.240778e-05</td>\n",
       "      <td>0.000000e+00</td>\n",
       "    </tr>\n",
       "    <tr>\n",
       "      <th>32</th>\n",
       "      <td>int_rate</td>\n",
       "      <td>-5.961378e-04</td>\n",
       "      <td>9.023732e-19</td>\n",
       "    </tr>\n",
       "    <tr>\n",
       "      <th>33</th>\n",
       "      <td>installment</td>\n",
       "      <td>-6.085568e-04</td>\n",
       "      <td>0.000000e+00</td>\n",
       "    </tr>\n",
       "    <tr>\n",
       "      <th>34</th>\n",
       "      <td>annual_inc</td>\n",
       "      <td>4.260817e-07</td>\n",
       "      <td>0.000000e+00</td>\n",
       "    </tr>\n",
       "    <tr>\n",
       "      <th>35</th>\n",
       "      <td>dti</td>\n",
       "      <td>-1.122813e-02</td>\n",
       "      <td>2.316107e-258</td>\n",
       "    </tr>\n",
       "    <tr>\n",
       "      <th>36</th>\n",
       "      <td>delinq_2yrs</td>\n",
       "      <td>-1.128301e-05</td>\n",
       "      <td>4.131589e-01</td>\n",
       "    </tr>\n",
       "    <tr>\n",
       "      <th>37</th>\n",
       "      <td>inq_last_6mths</td>\n",
       "      <td>2.730924e-04</td>\n",
       "      <td>1.874278e-17</td>\n",
       "    </tr>\n",
       "    <tr>\n",
       "      <th>38</th>\n",
       "      <td>mths_since_last_delinq</td>\n",
       "      <td>-1.959989e-03</td>\n",
       "      <td>8.537862e-20</td>\n",
       "    </tr>\n",
       "    <tr>\n",
       "      <th>39</th>\n",
       "      <td>mths_since_last_record</td>\n",
       "      <td>-1.395905e-03</td>\n",
       "      <td>0.000000e+00</td>\n",
       "    </tr>\n",
       "    <tr>\n",
       "      <th>40</th>\n",
       "      <td>open_acc</td>\n",
       "      <td>-3.759938e-03</td>\n",
       "      <td>1.100731e-53</td>\n",
       "    </tr>\n",
       "    <tr>\n",
       "      <th>41</th>\n",
       "      <td>pub_rec</td>\n",
       "      <td>-3.844204e-05</td>\n",
       "      <td>7.679659e-34</td>\n",
       "    </tr>\n",
       "    <tr>\n",
       "      <th>42</th>\n",
       "      <td>total_acc</td>\n",
       "      <td>-9.158670e-03</td>\n",
       "      <td>3.757544e-158</td>\n",
       "    </tr>\n",
       "    <tr>\n",
       "      <th>43</th>\n",
       "      <td>acc_now_delinq</td>\n",
       "      <td>7.534214e-06</td>\n",
       "      <td>4.418707e-01</td>\n",
       "    </tr>\n",
       "    <tr>\n",
       "      <th>44</th>\n",
       "      <td>total_rev_hi_lim</td>\n",
       "      <td>-2.429311e-06</td>\n",
       "      <td>0.000000e+00</td>\n",
       "    </tr>\n",
       "  </tbody>\n",
       "</table>\n",
       "</div>"
      ],
      "text/plain": [
       "                           Feature Name  Coefficients        p_value\n",
       "0                             Intercept -2.281742e-04            NaN\n",
       "1                               grade:A -2.639492e-05   6.268045e-01\n",
       "2                               grade:B -1.300220e-04   1.466513e-02\n",
       "3                               grade:C -2.450623e-04   1.535138e-07\n",
       "4                               grade:D  1.562876e-05   8.759135e-02\n",
       "5                               grade:E  2.150488e-05   2.255151e-02\n",
       "6                               grade:F  1.240578e-04   4.237568e-15\n",
       "7               home_ownership:MORTGAGE -6.905719e-05   3.992030e-01\n",
       "8                   home_ownership:NONE  1.297238e-06   1.823542e-01\n",
       "9                  home_ownership:OTHER  3.418745e-06   1.259699e-02\n",
       "10                   home_ownership:OWN  7.639115e-06   8.842357e-01\n",
       "11     verification_status:Not Verified -1.423244e-04   5.630095e-01\n",
       "12  verification_status:Source Verified -3.044152e-04   9.390098e-12\n",
       "13                          purpose:car  2.269080e-05   1.933141e-05\n",
       "14           purpose:debt_consolidation -2.823973e-04   1.017435e-03\n",
       "15                  purpose:educational  2.393199e-06   6.555862e-03\n",
       "16             purpose:home_improvement  3.127669e-05   6.650120e-03\n",
       "17                        purpose:house  2.103636e-05   2.042955e-05\n",
       "18               purpose:major_purchase  2.679304e-05   1.611498e-05\n",
       "19                      purpose:medical -3.549057e-06   8.922846e-01\n",
       "20                       purpose:moving  3.582380e-06   2.473757e-01\n",
       "21                        purpose:other  5.239975e-05   3.925656e-06\n",
       "22             purpose:renewable_energy  3.635434e-06   6.730217e-02\n",
       "23               purpose:small_business  8.655585e-05   3.389955e-19\n",
       "24                     purpose:vacation -1.492695e-06   9.270831e-01\n",
       "25                      purpose:wedding  1.721700e-05   1.231730e-05\n",
       "26                initial_list_status:w -1.438359e-03   0.000000e+00\n",
       "27                             term_int -6.043141e-03   9.317429e-18\n",
       "28                       emp_length_int -1.277066e-03   2.589510e-03\n",
       "29                   mths_since_issue_d  2.457104e-02   0.000000e+00\n",
       "30          mths_since_earliest_cr_line -1.892555e-03   5.712575e-54\n",
       "31                          funded_amnt  3.240778e-05   0.000000e+00\n",
       "32                             int_rate -5.961378e-04   9.023732e-19\n",
       "33                          installment -6.085568e-04   0.000000e+00\n",
       "34                           annual_inc  4.260817e-07   0.000000e+00\n",
       "35                                  dti -1.122813e-02  2.316107e-258\n",
       "36                          delinq_2yrs -1.128301e-05   4.131589e-01\n",
       "37                       inq_last_6mths  2.730924e-04   1.874278e-17\n",
       "38               mths_since_last_delinq -1.959989e-03   8.537862e-20\n",
       "39               mths_since_last_record -1.395905e-03   0.000000e+00\n",
       "40                             open_acc -3.759938e-03   1.100731e-53\n",
       "41                              pub_rec -3.844204e-05   7.679659e-34\n",
       "42                            total_acc -9.158670e-03  3.757544e-158\n",
       "43                       acc_now_delinq  7.534214e-06   4.418707e-01\n",
       "44                     total_rev_hi_lim -2.429311e-06   0.000000e+00"
      ]
     },
     "execution_count": 77,
     "metadata": {},
     "output_type": "execute_result"
    }
   ],
   "source": [
    "score,p_value=chi2(lgd_inputs_stage_1_train,lgd_targets_stage_1_train)\n",
    "summary_table=pd.DataFrame(columns=['Feature Name'],data=lgd_inputs_stage_1_train.columns.values)\n",
    "summary_table['Coefficients']=np.transpose(lr.coef_)\n",
    "summary_table['p_value']=p_value\n",
    "summary_table.index=summary_table.index+1\n",
    "summary_table.loc[0]=['Intercept',lr.intercept_[0],np.nan]\n",
    "summary_table=summary_table.sort_index()\n",
    "summary_table"
   ]
  },
  {
   "cell_type": "markdown",
   "id": "42eb4496",
   "metadata": {},
   "source": [
    "# Testing Model"
   ]
  },
  {
   "cell_type": "code",
   "execution_count": 78,
   "id": "3ff45c5f",
   "metadata": {},
   "outputs": [],
   "source": [
    "lgd_inputs_stage_1_test = lgd_inputs_stage_1_test[features_all]"
   ]
  },
  {
   "cell_type": "code",
   "execution_count": 79,
   "id": "4de057a0",
   "metadata": {},
   "outputs": [],
   "source": [
    "lgd_inputs_stage_1_test= lgd_inputs_stage_1_test.drop(features_reference_cat,axis=1)"
   ]
  },
  {
   "cell_type": "code",
   "execution_count": 80,
   "id": "b57885f7",
   "metadata": {},
   "outputs": [
    {
     "data": {
      "text/plain": [
       "array([1, 1, 1, ..., 1, 0, 1])"
      ]
     },
     "execution_count": 80,
     "metadata": {},
     "output_type": "execute_result"
    }
   ],
   "source": [
    "y_hat_test_lgd_stage_1= lr.predict(lgd_inputs_stage_1_test)\n",
    "y_hat_test_lgd_stage_1"
   ]
  },
  {
   "cell_type": "code",
   "execution_count": 81,
   "id": "9ed69606",
   "metadata": {},
   "outputs": [],
   "source": [
    "y_hat_test_proba_lgd_stage_1=lr.predict_proba(lgd_inputs_stage_1_test)\n",
    "y_hat_test_proba_lgd_stage_1=y_hat_test_proba_lgd_stage_1[:][:,1]"
   ]
  },
  {
   "cell_type": "code",
   "execution_count": 82,
   "id": "9a929e0f",
   "metadata": {},
   "outputs": [],
   "source": [
    "lgd_targets_stage_1_test_temp=lgd_targets_stage_1_test"
   ]
  },
  {
   "cell_type": "code",
   "execution_count": 83,
   "id": "156d5815",
   "metadata": {},
   "outputs": [],
   "source": [
    "lgd_targets_stage_1_test_temp.reset_index(drop=True,inplace=True)"
   ]
  },
  {
   "cell_type": "code",
   "execution_count": 84,
   "id": "49ae1f75",
   "metadata": {},
   "outputs": [],
   "source": [
    "df_actual_predicted_probs= pd.concat([lgd_targets_stage_1_test_temp,pd.DataFrame(y_hat_test_proba_lgd_stage_1)],axis=1)"
   ]
  },
  {
   "cell_type": "code",
   "execution_count": 85,
   "id": "fdf1c78f",
   "metadata": {},
   "outputs": [],
   "source": [
    "df_actual_predicted_probs.columns=['lgd_targets_stage_1_test','y_hat_test_proba_lgd_stage_1']"
   ]
  },
  {
   "cell_type": "code",
   "execution_count": 86,
   "id": "6d59a4b5",
   "metadata": {},
   "outputs": [],
   "source": [
    "df_actual_predicted_probs.index=lgd_inputs_stage_1_test.index"
   ]
  },
  {
   "cell_type": "code",
   "execution_count": 87,
   "id": "cd2c5871",
   "metadata": {},
   "outputs": [
    {
     "data": {
      "text/html": [
       "<div>\n",
       "<style scoped>\n",
       "    .dataframe tbody tr th:only-of-type {\n",
       "        vertical-align: middle;\n",
       "    }\n",
       "\n",
       "    .dataframe tbody tr th {\n",
       "        vertical-align: top;\n",
       "    }\n",
       "\n",
       "    .dataframe thead th {\n",
       "        text-align: right;\n",
       "    }\n",
       "</style>\n",
       "<table border=\"1\" class=\"dataframe\">\n",
       "  <thead>\n",
       "    <tr style=\"text-align: right;\">\n",
       "      <th></th>\n",
       "      <th>lgd_targets_stage_1_test</th>\n",
       "      <th>y_hat_test_proba_lgd_stage_1</th>\n",
       "    </tr>\n",
       "  </thead>\n",
       "  <tbody>\n",
       "    <tr>\n",
       "      <th>184439</th>\n",
       "      <td>1</td>\n",
       "      <td>0.650392</td>\n",
       "    </tr>\n",
       "    <tr>\n",
       "      <th>216498</th>\n",
       "      <td>1</td>\n",
       "      <td>0.582713</td>\n",
       "    </tr>\n",
       "    <tr>\n",
       "      <th>153461</th>\n",
       "      <td>1</td>\n",
       "      <td>0.618474</td>\n",
       "    </tr>\n",
       "    <tr>\n",
       "      <th>332878</th>\n",
       "      <td>1</td>\n",
       "      <td>0.402131</td>\n",
       "    </tr>\n",
       "    <tr>\n",
       "      <th>184985</th>\n",
       "      <td>0</td>\n",
       "      <td>0.574566</td>\n",
       "    </tr>\n",
       "  </tbody>\n",
       "</table>\n",
       "</div>"
      ],
      "text/plain": [
       "        lgd_targets_stage_1_test  y_hat_test_proba_lgd_stage_1\n",
       "184439                         1                      0.650392\n",
       "216498                         1                      0.582713\n",
       "153461                         1                      0.618474\n",
       "332878                         1                      0.402131\n",
       "184985                         0                      0.574566"
      ]
     },
     "execution_count": 87,
     "metadata": {},
     "output_type": "execute_result"
    }
   ],
   "source": [
    "df_actual_predicted_probs.head()"
   ]
  },
  {
   "cell_type": "code",
   "execution_count": 88,
   "id": "69a3c2e1",
   "metadata": {},
   "outputs": [
    {
     "data": {
      "text/plain": [
       "1    4887\n",
       "0    3761\n",
       "Name: lgd_targets_stage_1_test, dtype: int64"
      ]
     },
     "execution_count": 88,
     "metadata": {},
     "output_type": "execute_result"
    }
   ],
   "source": [
    "df_actual_predicted_probs['lgd_targets_stage_1_test'].value_counts()"
   ]
  },
  {
   "cell_type": "markdown",
   "id": "f95ee1c5",
   "metadata": {},
   "source": [
    "# Estimating The Accuracy of the model"
   ]
  },
  {
   "cell_type": "code",
   "execution_count": 90,
   "id": "daff7a7d",
   "metadata": {},
   "outputs": [
    {
     "name": "stdout",
     "output_type": "stream",
     "text": [
      "Accuracy score is :  0.6159805735430157\n"
     ]
    },
    {
     "data": {
      "text/plain": [
       "Text(0.5, 1.0, 'Confusion matrix')"
      ]
     },
     "execution_count": 90,
     "metadata": {},
     "output_type": "execute_result"
    },
    {
     "data": {
      "image/png": "[encoded data removed]",
      "text/plain": [
       "<Figure size 432x288 with 2 Axes>"
      ]
     },
     "metadata": {},
     "output_type": "display_data"
    }
   ],
   "source": [
    "print('Accuracy score is : ',accuracy_score(y_hat_test_lgd_stage_1,lgd_targets_stage_1_test) )\n",
    "cm=confusion_matrix(y_hat_test_lgd_stage_1,lgd_targets_stage_1_test)\n",
    "sns.heatmap(cm,annot=True)\n",
    "plt.xlabel('Predict')\n",
    "plt.ylabel('Actual')\n",
    "plt.title('Confusion matrix')"
   ]
  },
  {
   "cell_type": "code",
   "execution_count": 91,
   "id": "6c7e6aca",
   "metadata": {},
   "outputs": [],
   "source": [
    "#ROC curve\n",
    "from sklearn.metrics import roc_auc_score,roc_curve\n",
    "fpr,tpr,threshold= roc_curve(df_actual_predicted_probs['lgd_targets_stage_1_test'],df_actual_predicted_probs['y_hat_test_proba_lgd_stage_1'])"
   ]
  },
  {
   "cell_type": "code",
   "execution_count": 93,
   "id": "d0ebf533",
   "metadata": {},
   "outputs": [
    {
     "data": {
      "text/plain": [
       "Text(0.5, 1.0, 'ROC curve')"
      ]
     },
     "execution_count": 93,
     "metadata": {},
     "output_type": "execute_result"
    },
    {
     "data": {
      "image/png": "[encoded data removed]",
      "text/plain": [
       "<Figure size 432x288 with 1 Axes>"
      ]
     },
     "metadata": {},
     "output_type": "display_data"
    }
   ],
   "source": [
    "plt.plot(fpr,tpr)\n",
    "plt.plot(fpr,fpr,linestyle='--',color='k')\n",
    "plt.xlabel('False Positive Rate')\n",
    "plt.ylabel('True Positive Rate')\n",
    "plt.title('ROC curve')"
   ]
  },
  {
   "cell_type": "code",
   "execution_count": 97,
   "id": "5b3f0c08",
   "metadata": {},
   "outputs": [
    {
     "data": {
      "text/plain": [
       "0.652453777629138"
      ]
     },
     "execution_count": 97,
     "metadata": {},
     "output_type": "execute_result"
    }
   ],
   "source": [
    "AUROC= roc_auc_score(df_actual_predicted_probs['lgd_targets_stage_1_test'],df_actual_predicted_probs['y_hat_test_proba_lgd_stage_1'])\n",
    "AUROC                                                                                                   "
   ]
  },
  {
   "cell_type": "code",
   "execution_count": 98,
   "id": "4597e4f5",
   "metadata": {},
   "outputs": [],
   "source": [
    "#DUring the 2nd stage some of the values classified as >1 may be estimated to be =0 thus correcting the current misclassification"
   ]
  },
  {
   "cell_type": "markdown",
   "id": "13d43676",
   "metadata": {},
   "source": [
    "# saving the model"
   ]
  },
  {
   "cell_type": "code",
   "execution_count": 99,
   "id": "3e097b27",
   "metadata": {},
   "outputs": [],
   "source": [
    "import pickle"
   ]
  },
  {
   "cell_type": "code",
   "execution_count": 101,
   "id": "bd3f1447",
   "metadata": {},
   "outputs": [],
   "source": [
    "pickle.dump(lr,open('lgd_model_stage_1.sav','wb'))"
   ]
  },
  {
   "cell_type": "markdown",
   "id": "042d464c",
   "metadata": {},
   "source": [
    "# Stage-2 Linear Regression"
   ]
  },
  {
   "cell_type": "code",
   "execution_count": 103,
   "id": "5f2711e1",
   "metadata": {},
   "outputs": [],
   "source": [
    "lgd_stage_2_data= loan_data_defaults[loan_data_defaults['recovery rate_0_1']==1]\n"
   ]
  },
  {
   "cell_type": "code",
   "execution_count": 104,
   "id": "77380d25",
   "metadata": {},
   "outputs": [],
   "source": [
    "lgd_inputs_stage2_train,lgd_inputs_stage2_test,lgd_targets_stage2_train,lgd_targets_stage2_test= train_test_split(lgd_stage_2_data.drop(['good_bad','recovery rate','recovery rate_0_1','CCF'],axis=1),lgd_stage_2_data['recovery rate'],test_size=0.2,random_state=272)"
   ]
  },
  {
   "cell_type": "code",
   "execution_count": null,
   "id": "1f6ab93e",
   "metadata": {},
   "outputs": [],
   "source": []
  },
  {
   "cell_type": "code",
   "execution_count": 106,
   "id": "6121ce6f",
   "metadata": {},
   "outputs": [],
   "source": [
    "lgd_inputs_stage2_train= lgd_inputs_stage2_train[features_all]\n",
    "lgd_inputs_stage2_train= lgd_inputs_stage2_train.drop(features_reference_cat,axis=1)"
   ]
  },
  {
   "cell_type": "code",
   "execution_count": 107,
   "id": "9111d684",
   "metadata": {},
   "outputs": [],
   "source": [
    "linreg=LinearRegression()\n"
   ]
  },
  {
   "cell_type": "code",
   "execution_count": 109,
   "id": "7b0effcf",
   "metadata": {},
   "outputs": [
    {
     "data": {
      "text/plain": [
       "LinearRegression()"
      ]
     },
     "execution_count": 109,
     "metadata": {},
     "output_type": "execute_result"
    }
   ],
   "source": [
    "linreg.fit(lgd_inputs_stage2_train,lgd_targets_stage2_train)"
   ]
  },
  {
   "cell_type": "code",
   "execution_count": 111,
   "id": "06bff0a8",
   "metadata": {},
   "outputs": [
    {
     "data": {
      "text/html": [
       "<div>\n",
       "<style scoped>\n",
       "    .dataframe tbody tr th:only-of-type {\n",
       "        vertical-align: middle;\n",
       "    }\n",
       "\n",
       "    .dataframe tbody tr th {\n",
       "        vertical-align: top;\n",
       "    }\n",
       "\n",
       "    .dataframe thead th {\n",
       "        text-align: right;\n",
       "    }\n",
       "</style>\n",
       "<table border=\"1\" class=\"dataframe\">\n",
       "  <thead>\n",
       "    <tr style=\"text-align: right;\">\n",
       "      <th></th>\n",
       "      <th>Feature Name</th>\n",
       "      <th>Coefficients</th>\n",
       "    </tr>\n",
       "  </thead>\n",
       "  <tbody>\n",
       "    <tr>\n",
       "      <th>1</th>\n",
       "      <td>grade:A</td>\n",
       "      <td>-8.393249e-02</td>\n",
       "    </tr>\n",
       "    <tr>\n",
       "      <th>2</th>\n",
       "      <td>grade:B</td>\n",
       "      <td>-6.625883e-02</td>\n",
       "    </tr>\n",
       "    <tr>\n",
       "      <th>3</th>\n",
       "      <td>grade:C</td>\n",
       "      <td>-5.023132e-02</td>\n",
       "    </tr>\n",
       "    <tr>\n",
       "      <th>4</th>\n",
       "      <td>grade:D</td>\n",
       "      <td>-3.808045e-02</td>\n",
       "    </tr>\n",
       "    <tr>\n",
       "      <th>5</th>\n",
       "      <td>grade:E</td>\n",
       "      <td>-2.045384e-02</td>\n",
       "    </tr>\n",
       "    <tr>\n",
       "      <th>6</th>\n",
       "      <td>grade:F</td>\n",
       "      <td>-6.638683e-03</td>\n",
       "    </tr>\n",
       "    <tr>\n",
       "      <th>7</th>\n",
       "      <td>home_ownership:MORTGAGE</td>\n",
       "      <td>2.220637e-03</td>\n",
       "    </tr>\n",
       "    <tr>\n",
       "      <th>8</th>\n",
       "      <td>home_ownership:NONE</td>\n",
       "      <td>1.318981e-01</td>\n",
       "    </tr>\n",
       "    <tr>\n",
       "      <th>9</th>\n",
       "      <td>home_ownership:OTHER</td>\n",
       "      <td>1.485461e-02</td>\n",
       "    </tr>\n",
       "    <tr>\n",
       "      <th>10</th>\n",
       "      <td>home_ownership:OWN</td>\n",
       "      <td>3.837685e-03</td>\n",
       "    </tr>\n",
       "    <tr>\n",
       "      <th>11</th>\n",
       "      <td>verification_status:Not Verified</td>\n",
       "      <td>1.829805e-03</td>\n",
       "    </tr>\n",
       "    <tr>\n",
       "      <th>12</th>\n",
       "      <td>verification_status:Source Verified</td>\n",
       "      <td>-1.875238e-03</td>\n",
       "    </tr>\n",
       "    <tr>\n",
       "      <th>13</th>\n",
       "      <td>purpose:car</td>\n",
       "      <td>-2.074410e-03</td>\n",
       "    </tr>\n",
       "    <tr>\n",
       "      <th>14</th>\n",
       "      <td>purpose:debt_consolidation</td>\n",
       "      <td>7.307817e-05</td>\n",
       "    </tr>\n",
       "    <tr>\n",
       "      <th>15</th>\n",
       "      <td>purpose:educational</td>\n",
       "      <td>5.494732e-02</td>\n",
       "    </tr>\n",
       "    <tr>\n",
       "      <th>16</th>\n",
       "      <td>purpose:home_improvement</td>\n",
       "      <td>-2.245678e-03</td>\n",
       "    </tr>\n",
       "    <tr>\n",
       "      <th>17</th>\n",
       "      <td>purpose:house</td>\n",
       "      <td>-3.055947e-04</td>\n",
       "    </tr>\n",
       "    <tr>\n",
       "      <th>18</th>\n",
       "      <td>purpose:major_purchase</td>\n",
       "      <td>1.900471e-03</td>\n",
       "    </tr>\n",
       "    <tr>\n",
       "      <th>19</th>\n",
       "      <td>purpose:medical</td>\n",
       "      <td>1.115623e-02</td>\n",
       "    </tr>\n",
       "    <tr>\n",
       "      <th>20</th>\n",
       "      <td>purpose:moving</td>\n",
       "      <td>1.275454e-02</td>\n",
       "    </tr>\n",
       "    <tr>\n",
       "      <th>21</th>\n",
       "      <td>purpose:other</td>\n",
       "      <td>4.059683e-03</td>\n",
       "    </tr>\n",
       "    <tr>\n",
       "      <th>22</th>\n",
       "      <td>purpose:renewable_energy</td>\n",
       "      <td>2.441488e-02</td>\n",
       "    </tr>\n",
       "    <tr>\n",
       "      <th>23</th>\n",
       "      <td>purpose:small_business</td>\n",
       "      <td>3.556017e-03</td>\n",
       "    </tr>\n",
       "    <tr>\n",
       "      <th>24</th>\n",
       "      <td>purpose:vacation</td>\n",
       "      <td>4.329282e-03</td>\n",
       "    </tr>\n",
       "    <tr>\n",
       "      <th>25</th>\n",
       "      <td>purpose:wedding</td>\n",
       "      <td>1.395826e-02</td>\n",
       "    </tr>\n",
       "    <tr>\n",
       "      <th>26</th>\n",
       "      <td>initial_list_status:w</td>\n",
       "      <td>1.541927e-02</td>\n",
       "    </tr>\n",
       "    <tr>\n",
       "      <th>27</th>\n",
       "      <td>term_int</td>\n",
       "      <td>3.591050e-04</td>\n",
       "    </tr>\n",
       "    <tr>\n",
       "      <th>28</th>\n",
       "      <td>emp_length_int</td>\n",
       "      <td>2.623877e-04</td>\n",
       "    </tr>\n",
       "    <tr>\n",
       "      <th>29</th>\n",
       "      <td>mths_since_issue_d</td>\n",
       "      <td>-1.603561e-03</td>\n",
       "    </tr>\n",
       "    <tr>\n",
       "      <th>30</th>\n",
       "      <td>mths_since_earliest_cr_line</td>\n",
       "      <td>2.161571e-05</td>\n",
       "    </tr>\n",
       "    <tr>\n",
       "      <th>31</th>\n",
       "      <td>funded_amnt</td>\n",
       "      <td>-1.756385e-07</td>\n",
       "    </tr>\n",
       "    <tr>\n",
       "      <th>32</th>\n",
       "      <td>int_rate</td>\n",
       "      <td>-3.442438e-03</td>\n",
       "    </tr>\n",
       "    <tr>\n",
       "      <th>33</th>\n",
       "      <td>installment</td>\n",
       "      <td>-1.367379e-05</td>\n",
       "    </tr>\n",
       "    <tr>\n",
       "      <th>34</th>\n",
       "      <td>annual_inc</td>\n",
       "      <td>7.316040e-08</td>\n",
       "    </tr>\n",
       "    <tr>\n",
       "      <th>35</th>\n",
       "      <td>dti</td>\n",
       "      <td>1.373348e-04</td>\n",
       "    </tr>\n",
       "    <tr>\n",
       "      <th>36</th>\n",
       "      <td>delinq_2yrs</td>\n",
       "      <td>9.781993e-04</td>\n",
       "    </tr>\n",
       "    <tr>\n",
       "      <th>37</th>\n",
       "      <td>inq_last_6mths</td>\n",
       "      <td>1.226550e-03</td>\n",
       "    </tr>\n",
       "    <tr>\n",
       "      <th>38</th>\n",
       "      <td>mths_since_last_delinq</td>\n",
       "      <td>-5.021193e-06</td>\n",
       "    </tr>\n",
       "    <tr>\n",
       "      <th>39</th>\n",
       "      <td>mths_since_last_record</td>\n",
       "      <td>-4.883713e-05</td>\n",
       "    </tr>\n",
       "    <tr>\n",
       "      <th>40</th>\n",
       "      <td>open_acc</td>\n",
       "      <td>-1.089140e-03</td>\n",
       "    </tr>\n",
       "    <tr>\n",
       "      <th>41</th>\n",
       "      <td>pub_rec</td>\n",
       "      <td>2.435684e-03</td>\n",
       "    </tr>\n",
       "    <tr>\n",
       "      <th>42</th>\n",
       "      <td>total_acc</td>\n",
       "      <td>4.210290e-04</td>\n",
       "    </tr>\n",
       "    <tr>\n",
       "      <th>43</th>\n",
       "      <td>acc_now_delinq</td>\n",
       "      <td>-1.986256e-03</td>\n",
       "    </tr>\n",
       "    <tr>\n",
       "      <th>44</th>\n",
       "      <td>total_rev_hi_lim</td>\n",
       "      <td>2.451530e-07</td>\n",
       "    </tr>\n",
       "    <tr>\n",
       "      <th>0</th>\n",
       "      <td>Intercept</td>\n",
       "      <td>2.735499e-01</td>\n",
       "    </tr>\n",
       "  </tbody>\n",
       "</table>\n",
       "</div>"
      ],
      "text/plain": [
       "                           Feature Name  Coefficients\n",
       "1                               grade:A -8.393249e-02\n",
       "2                               grade:B -6.625883e-02\n",
       "3                               grade:C -5.023132e-02\n",
       "4                               grade:D -3.808045e-02\n",
       "5                               grade:E -2.045384e-02\n",
       "6                               grade:F -6.638683e-03\n",
       "7               home_ownership:MORTGAGE  2.220637e-03\n",
       "8                   home_ownership:NONE  1.318981e-01\n",
       "9                  home_ownership:OTHER  1.485461e-02\n",
       "10                   home_ownership:OWN  3.837685e-03\n",
       "11     verification_status:Not Verified  1.829805e-03\n",
       "12  verification_status:Source Verified -1.875238e-03\n",
       "13                          purpose:car -2.074410e-03\n",
       "14           purpose:debt_consolidation  7.307817e-05\n",
       "15                  purpose:educational  5.494732e-02\n",
       "16             purpose:home_improvement -2.245678e-03\n",
       "17                        purpose:house -3.055947e-04\n",
       "18               purpose:major_purchase  1.900471e-03\n",
       "19                      purpose:medical  1.115623e-02\n",
       "20                       purpose:moving  1.275454e-02\n",
       "21                        purpose:other  4.059683e-03\n",
       "22             purpose:renewable_energy  2.441488e-02\n",
       "23               purpose:small_business  3.556017e-03\n",
       "24                     purpose:vacation  4.329282e-03\n",
       "25                      purpose:wedding  1.395826e-02\n",
       "26                initial_list_status:w  1.541927e-02\n",
       "27                             term_int  3.591050e-04\n",
       "28                       emp_length_int  2.623877e-04\n",
       "29                   mths_since_issue_d -1.603561e-03\n",
       "30          mths_since_earliest_cr_line  2.161571e-05\n",
       "31                          funded_amnt -1.756385e-07\n",
       "32                             int_rate -3.442438e-03\n",
       "33                          installment -1.367379e-05\n",
       "34                           annual_inc  7.316040e-08\n",
       "35                                  dti  1.373348e-04\n",
       "36                          delinq_2yrs  9.781993e-04\n",
       "37                       inq_last_6mths  1.226550e-03\n",
       "38               mths_since_last_delinq -5.021193e-06\n",
       "39               mths_since_last_record -4.883713e-05\n",
       "40                             open_acc -1.089140e-03\n",
       "41                              pub_rec  2.435684e-03\n",
       "42                            total_acc  4.210290e-04\n",
       "43                       acc_now_delinq -1.986256e-03\n",
       "44                     total_rev_hi_lim  2.451530e-07\n",
       "0                             Intercept  2.735499e-01"
      ]
     },
     "execution_count": 111,
     "metadata": {},
     "output_type": "execute_result"
    }
   ],
   "source": [
    "summar_table=pd.DataFrame(columns=['Feature Name'],data=lgd_inputs_stage2_train.columns.values)\n",
    "summar_table['Coefficients']= np.transpose(linreg.coef_)\n",
    "summar_table.index=summar_table.index+1\n",
    "summar_table.loc[0]=['Intercept',linreg.intercept_]\n",
    "summar_table.sort_index()\n",
    "summar_table"
   ]
  },
  {
   "cell_type": "markdown",
   "id": "56f19fb6",
   "metadata": {},
   "source": [
    "## Linear Regression Evaluation"
   ]
  },
  {
   "cell_type": "code",
   "execution_count": 113,
   "id": "a888ad21",
   "metadata": {},
   "outputs": [],
   "source": [
    "lgd_inputs_stage2_test = lgd_inputs_stage2_test[features_all]\n",
    "lgd_inputs_stage2_test = lgd_inputs_stage2_test.drop(features_reference_cat,axis=1)"
   ]
  },
  {
   "cell_type": "code",
   "execution_count": 114,
   "id": "53a530be",
   "metadata": {},
   "outputs": [],
   "source": [
    "y_hat_test_lgd_stage_2=linreg.predict(lgd_inputs_stage2_test)"
   ]
  },
  {
   "cell_type": "code",
   "execution_count": 117,
   "id": "2f7fc036",
   "metadata": {},
   "outputs": [
    {
     "data": {
      "text/html": [
       "<div>\n",
       "<style scoped>\n",
       "    .dataframe tbody tr th:only-of-type {\n",
       "        vertical-align: middle;\n",
       "    }\n",
       "\n",
       "    .dataframe tbody tr th {\n",
       "        vertical-align: top;\n",
       "    }\n",
       "\n",
       "    .dataframe thead th {\n",
       "        text-align: right;\n",
       "    }\n",
       "</style>\n",
       "<table border=\"1\" class=\"dataframe\">\n",
       "  <thead>\n",
       "    <tr style=\"text-align: right;\">\n",
       "      <th></th>\n",
       "      <th>recovery rate</th>\n",
       "      <th>0</th>\n",
       "    </tr>\n",
       "  </thead>\n",
       "  <tbody>\n",
       "    <tr>\n",
       "      <th>recovery rate</th>\n",
       "      <td>1.000000</td>\n",
       "      <td>0.290188</td>\n",
       "    </tr>\n",
       "    <tr>\n",
       "      <th>0</th>\n",
       "      <td>0.290188</td>\n",
       "      <td>1.000000</td>\n",
       "    </tr>\n",
       "  </tbody>\n",
       "</table>\n",
       "</div>"
      ],
      "text/plain": [
       "               recovery rate         0\n",
       "recovery rate       1.000000  0.290188\n",
       "0                   0.290188  1.000000"
      ]
     },
     "execution_count": 117,
     "metadata": {},
     "output_type": "execute_result"
    }
   ],
   "source": [
    "#to find the correlation between actual and predicted values.\n",
    "pd.concat([lgd_targets_stage2_test.reset_index(drop=True),pd.DataFrame(y_hat_test_lgd_stage_2)],axis=1).corr()"
   ]
  },
  {
   "cell_type": "code",
   "execution_count": 122,
   "id": "e84ee98f",
   "metadata": {},
   "outputs": [
    {
     "data": {
      "text/plain": [
       "<AxesSubplot:xlabel='recovery rate', ylabel='Density'>"
      ]
     },
     "execution_count": 122,
     "metadata": {},
     "output_type": "execute_result"
    },
    {
     "data": {
      "image/png": "[encoded data removed]",
      "text/plain": [
       "<Figure size 432x288 with 1 Axes>"
      ]
     },
     "metadata": {},
     "output_type": "display_data"
    }
   ],
   "source": [
    "#lets see the distribution of errors or residual which is difference between actual and predicted values\n",
    "#distribution should be normally distributed\n",
    "sns.distplot(lgd_targets_stage2_test - y_hat_test_lgd_stage_2)"
   ]
  },
  {
   "cell_type": "markdown",
   "id": "4343ebdb",
   "metadata": {},
   "source": [
    "As this model is symmetrically distributed and follow normal distribution around 0. So we can say that this is a good model."
   ]
  },
  {
   "cell_type": "code",
   "execution_count": 123,
   "id": "1da75abc",
   "metadata": {},
   "outputs": [],
   "source": [
    "#save this model in pickle file to use in future\n",
    "pickle.dump(linreg,open('lgd_model_stage_2.sav','wb'))"
   ]
  },
  {
   "cell_type": "markdown",
   "id": "ea8c76fb",
   "metadata": {},
   "source": [
    "# Final Stage--\n",
    "## combining stage1 and stage 2"
   ]
  },
  {
   "cell_type": "code",
   "execution_count": 124,
   "id": "f0b56d0b",
   "metadata": {},
   "outputs": [],
   "source": [
    "# we are predicting all the inputs test for stage 1 as well which has recovery rate==0.\n",
    "y_hat_test_lgd_stage_2_all= linreg.predict(lgd_inputs_stage_1_test)"
   ]
  },
  {
   "cell_type": "code",
   "execution_count": 125,
   "id": "80d54cc0",
   "metadata": {},
   "outputs": [
    {
     "data": {
      "text/plain": [
       "array([0.09418451, 0.11796017, 0.1189245 , ..., 0.12377359, 0.15607422,\n",
       "       0.12489499])"
      ]
     },
     "execution_count": 125,
     "metadata": {},
     "output_type": "execute_result"
    }
   ],
   "source": [
    "y_hat_test_lgd_stage_2_all"
   ]
  },
  {
   "cell_type": "code",
   "execution_count": 126,
   "id": "8ffb24fb",
   "metadata": {},
   "outputs": [],
   "source": [
    "#Wherever there is a 0 predicted by the first model. all values predicted \n",
    "#by the second model are multiplied by it will remain 0 and wherever there is\n",
    "#a 1, all values predicted by the second models are multiplied by 1 so they\n",
    "# will remain same.\n",
    "y_hat_test_lgd= y_hat_test_lgd_stage_1 * y_hat_test_lgd_stage_2_all"
   ]
  },
  {
   "cell_type": "code",
   "execution_count": 127,
   "id": "e0c3a113",
   "metadata": {},
   "outputs": [
    {
     "data": {
      "text/html": [
       "<div>\n",
       "<style scoped>\n",
       "    .dataframe tbody tr th:only-of-type {\n",
       "        vertical-align: middle;\n",
       "    }\n",
       "\n",
       "    .dataframe tbody tr th {\n",
       "        vertical-align: top;\n",
       "    }\n",
       "\n",
       "    .dataframe thead th {\n",
       "        text-align: right;\n",
       "    }\n",
       "</style>\n",
       "<table border=\"1\" class=\"dataframe\">\n",
       "  <thead>\n",
       "    <tr style=\"text-align: right;\">\n",
       "      <th></th>\n",
       "      <th>0</th>\n",
       "    </tr>\n",
       "  </thead>\n",
       "  <tbody>\n",
       "    <tr>\n",
       "      <th>count</th>\n",
       "      <td>8648.000000</td>\n",
       "    </tr>\n",
       "    <tr>\n",
       "      <th>mean</th>\n",
       "      <td>0.078476</td>\n",
       "    </tr>\n",
       "    <tr>\n",
       "      <th>std</th>\n",
       "      <td>0.052139</td>\n",
       "    </tr>\n",
       "    <tr>\n",
       "      <th>min</th>\n",
       "      <td>-0.008540</td>\n",
       "    </tr>\n",
       "    <tr>\n",
       "      <th>25%</th>\n",
       "      <td>0.000000</td>\n",
       "    </tr>\n",
       "    <tr>\n",
       "      <th>50%</th>\n",
       "      <td>0.094598</td>\n",
       "    </tr>\n",
       "    <tr>\n",
       "      <th>75%</th>\n",
       "      <td>0.118804</td>\n",
       "    </tr>\n",
       "    <tr>\n",
       "      <th>max</th>\n",
       "      <td>0.249515</td>\n",
       "    </tr>\n",
       "  </tbody>\n",
       "</table>\n",
       "</div>"
      ],
      "text/plain": [
       "                 0\n",
       "count  8648.000000\n",
       "mean      0.078476\n",
       "std       0.052139\n",
       "min      -0.008540\n",
       "25%       0.000000\n",
       "50%       0.094598\n",
       "75%       0.118804\n",
       "max       0.249515"
      ]
     },
     "execution_count": 127,
     "metadata": {},
     "output_type": "execute_result"
    }
   ],
   "source": [
    "pd.DataFrame(y_hat_test_lgd).describe()"
   ]
  },
  {
   "cell_type": "code",
   "execution_count": 128,
   "id": "b4f1f0ca",
   "metadata": {},
   "outputs": [],
   "source": [
    "# if there is any predicted value to be  <0 so we will write as ==0 and >1 \n",
    "# then we will do as ==1.\n",
    "y_hat_test_lgd= np.where(y_hat_test_lgd<0 ,0, y_hat_test_lgd )\n",
    "y_hat_test_lgd= np.where(y_hat_test_lgd>1, 1, y_hat_test_lgd)\n"
   ]
  },
  {
   "cell_type": "code",
   "execution_count": 130,
   "id": "241cfc53",
   "metadata": {},
   "outputs": [
    {
     "data": {
      "text/html": [
       "<div>\n",
       "<style scoped>\n",
       "    .dataframe tbody tr th:only-of-type {\n",
       "        vertical-align: middle;\n",
       "    }\n",
       "\n",
       "    .dataframe tbody tr th {\n",
       "        vertical-align: top;\n",
       "    }\n",
       "\n",
       "    .dataframe thead th {\n",
       "        text-align: right;\n",
       "    }\n",
       "</style>\n",
       "<table border=\"1\" class=\"dataframe\">\n",
       "  <thead>\n",
       "    <tr style=\"text-align: right;\">\n",
       "      <th></th>\n",
       "      <th>0</th>\n",
       "    </tr>\n",
       "  </thead>\n",
       "  <tbody>\n",
       "    <tr>\n",
       "      <th>count</th>\n",
       "      <td>8648.000000</td>\n",
       "    </tr>\n",
       "    <tr>\n",
       "      <th>mean</th>\n",
       "      <td>0.078478</td>\n",
       "    </tr>\n",
       "    <tr>\n",
       "      <th>std</th>\n",
       "      <td>0.052136</td>\n",
       "    </tr>\n",
       "    <tr>\n",
       "      <th>min</th>\n",
       "      <td>0.000000</td>\n",
       "    </tr>\n",
       "    <tr>\n",
       "      <th>25%</th>\n",
       "      <td>0.000000</td>\n",
       "    </tr>\n",
       "    <tr>\n",
       "      <th>50%</th>\n",
       "      <td>0.094598</td>\n",
       "    </tr>\n",
       "    <tr>\n",
       "      <th>75%</th>\n",
       "      <td>0.118804</td>\n",
       "    </tr>\n",
       "    <tr>\n",
       "      <th>max</th>\n",
       "      <td>0.249515</td>\n",
       "    </tr>\n",
       "  </tbody>\n",
       "</table>\n",
       "</div>"
      ],
      "text/plain": [
       "                 0\n",
       "count  8648.000000\n",
       "mean      0.078478\n",
       "std       0.052136\n",
       "min       0.000000\n",
       "25%       0.000000\n",
       "50%       0.094598\n",
       "75%       0.118804\n",
       "max       0.249515"
      ]
     },
     "execution_count": 130,
     "metadata": {},
     "output_type": "execute_result"
    }
   ],
   "source": [
    "#statistics of y_hat_test_lgd\n",
    "pd.DataFrame(y_hat_test_lgd).describe()"
   ]
  },
  {
   "cell_type": "code",
   "execution_count": 146,
   "id": "39a67def",
   "metadata": {},
   "outputs": [],
   "source": [
    "# now we can see that min is 0 and max element is 1."
   ]
  },
  {
   "cell_type": "code",
   "execution_count": null,
   "id": "5fea63fc",
   "metadata": {},
   "outputs": [],
   "source": []
  }
 ],
 "metadata": {
  "kernelspec": {
   "display_name": "Python 3 (ipykernel)",
   "language": "python",
   "name": "python3"
  },
  "language_info": {
   "codemirror_mode": {
    "name": "ipython",
    "version": 3
   },
   "file_extension": ".py",
   "mimetype": "text/x-python",
   "name": "python",
   "nbconvert_exporter": "python",
   "pygments_lexer": "ipython3",
   "version": "3.9.7"
  }
 },
 "nbformat": 4,
 "nbformat_minor": 5
}
